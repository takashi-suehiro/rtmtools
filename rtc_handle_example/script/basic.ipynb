{
 "cells": [
  {
   "cell_type": "markdown",
   "id": "89e8c404",
   "metadata": {},
   "source": [
    "# rtc_handle.py（basic）\n",
    "\n",
    "- this ipnb shows a basic usage of rtc_handle.py\n",
    "- precondition: rtcs(cin and cout) are prelaunched separetely\n",
    "- you can monitor the behavior of the system with openrtp\n",
    "\n",
    "you can access and control rtcs of OpenRTM-aist (written in any languages, ie., c++, python, java) \n",
    "by using rtc_handle.py"
   ]
  },
  {
   "cell_type": "code",
   "execution_count": 1,
   "id": "901dde07",
   "metadata": {},
   "outputs": [],
   "source": [
    "#!/usr/bin/env python\n",
    "# -*- Python -*-\n",
    "\n",
    "import sys\n",
    "import time\n",
    "import subprocess"
   ]
  },
  {
   "cell_type": "markdown",
   "id": "d43f7ab1",
   "metadata": {},
   "source": [
    "## setup user environmet\n",
    "\n",
    "- path for rtc_handle \n",
    "- path for rtcs and user tools\n",
    "- nameservers\n",
    "\n",
    "you may provide a file (ex. set_env.py) for this."
   ]
  },
  {
   "cell_type": "code",
   "execution_count": 2,
   "id": "0a7f8eee",
   "metadata": {},
   "outputs": [],
   "source": [
    "#\n",
    "# set up user environment\n",
    "#  RtmToolsDir, MyRtcDir, etc.\n",
    "#\n",
    "# from set_env import *   : you may provide a setup file like this\n",
    "#\n",
    "RtmToolsDir=\"../..\"\n",
    "MyRtcDir=\"..\"\n",
    "NS0=\"localhost:9876\"\n"
   ]
  },
  {
   "cell_type": "markdown",
   "id": "1c7b93b5",
   "metadata": {},
   "source": [
    "## import user tools \n",
    "\n",
    "path is modified temporaly to import tools\n",
    "\n",
    "stubs for rtc service ports might be imported (this will be explained another example)."
   ]
  },
  {
   "cell_type": "code",
   "execution_count": 3,
   "id": "f1c5db65",
   "metadata": {},
   "outputs": [],
   "source": [
    "#\n",
    "# import user tools\n",
    "#\n",
    "sys.path.append(\".\")\n",
    "save_path = sys.path[:]\n",
    "sys.path.append(RtmToolsDir+'/rtc_handle')\n",
    "from rtc_handle import *\n",
    "# from rtc_handle_util import *\n",
    "# sys.path.append(RtmToolsDir+'/embryonic_rtc')\n",
    "# from EmbryonicRtc import *\n",
    "sys.path = save_path\n",
    "\n",
    "#\n",
    "# import stub files\n",
    "# \n",
    "#import _GlobalIDL\n"
   ]
  },
  {
   "cell_type": "markdown",
   "id": "197d749d",
   "metadata": {},
   "source": [
    "## RtmEnv: rtm environment holder \n",
    "\n",
    "RtmEnv class object contains an orb, name-servers, rtcs, connectors and other rtm environment information.\n",
    "\n",
    "the second arg is a list of cos nameservers."
   ]
  },
  {
   "cell_type": "code",
   "execution_count": 4,
   "id": "09a72ee1",
   "metadata": {},
   "outputs": [],
   "source": [
    "#\n",
    "# user program \n",
    "# \n",
    "\n",
    "#\n",
    "env = RtmEnv(sys.argv,[NS0])\n"
   ]
  },
  {
   "cell_type": "markdown",
   "id": "ab045b14",
   "metadata": {},
   "source": [
    "## NameSpace\n",
    "\n",
    "NameSpace.env.list_obj() retrieves a list of corba objects in the nameserver \n",
    "and put them into the NameSpace.obj_list dictionary.\n",
    "\n",
    "if an object is an rtc, its proxy object(RtcHandl) is created \n",
    "and put into the NameSpace.rtc_handle dictionary."
   ]
  },
  {
   "cell_type": "code",
   "execution_count": 5,
   "id": "af42d470",
   "metadata": {},
   "outputs": [
    {
     "name": "stdout",
     "output_type": "stream",
     "text": [
      "objcet cin0.rtc was listed.\n",
      "port_name: str_out\n",
      "handle for cin0.rtc was created.\n",
      "objcet cout0.rtc was listed.\n",
      "port_name: str_in\n",
      "handle for cout0.rtc was created.\n"
     ]
    },
    {
     "data": {
      "text/plain": [
       "[['cin0.rtc', <OpenRTM._objref_DataFlowComponent at 0x7fdbdc4fc970>],\n",
       " ['cout0.rtc', <OpenRTM._objref_DataFlowComponent at 0x7fdbcde64be0>]]"
      ]
     },
     "execution_count": 5,
     "metadata": {},
     "output_type": "execute_result"
    }
   ],
   "source": [
    "env.name_space[NS0].list_obj()"
   ]
  },
  {
   "cell_type": "code",
   "execution_count": 6,
   "id": "34028680",
   "metadata": {},
   "outputs": [
    {
     "data": {
      "text/plain": [
       "{'cin0.rtc': <OpenRTM._objref_DataFlowComponent at 0x7fdbdc4fc970>,\n",
       " 'cout0.rtc': <OpenRTM._objref_DataFlowComponent at 0x7fdbcde64be0>}"
      ]
     },
     "execution_count": 6,
     "metadata": {},
     "output_type": "execute_result"
    }
   ],
   "source": [
    "env.name_space[NS0].obj_list"
   ]
  },
  {
   "cell_type": "code",
   "execution_count": 7,
   "id": "ac0c953f",
   "metadata": {},
   "outputs": [
    {
     "data": {
      "text/plain": [
       "{'cin0.rtc': <rtc_handle.RtcHandle at 0x7fdbdc50e3a0>,\n",
       " 'cout0.rtc': <rtc_handle.RtcHandle at 0x7fdbcde662e0>}"
      ]
     },
     "execution_count": 7,
     "metadata": {},
     "output_type": "execute_result"
    }
   ],
   "source": [
    "env.name_space[NS0].rtc_handles"
   ]
  },
  {
   "cell_type": "markdown",
   "id": "6216ad18",
   "metadata": {},
   "source": [
    "## RtcHandle: proxy of rtc\n",
    "\n",
    "RtcHandle is a proxy class of rtc and the center object of this module. \n",
    "an rtc can be accessed by its object reference and information of the rtc can be gathered throug the reference.\n",
    "an RtcHandle object holds those information and proxy the rtc."
   ]
  },
  {
   "cell_type": "markdown",
   "id": "f1b50858",
   "metadata": {},
   "source": [
    "## assign rtc proxies to valiables\n",
    "\n",
    "to ease access to rtc proxies, it may be a good idea assigning them to valiables."
   ]
  },
  {
   "cell_type": "code",
   "execution_count": 8,
   "id": "29c8e4f2",
   "metadata": {},
   "outputs": [],
   "source": [
    "cin=env.name_space[NS0].rtc_handles['cin0.rtc']\n",
    "cout=env.name_space[NS0].rtc_handles['cout0.rtc']"
   ]
  },
  {
   "cell_type": "markdown",
   "id": "44b5c27d",
   "metadata": {},
   "source": [
    "## activate and deactivate rtcs"
   ]
  },
  {
   "cell_type": "code",
   "execution_count": 9,
   "id": "cdf52596",
   "metadata": {},
   "outputs": [
    {
     "data": {
      "text/plain": [
       "RTC_OK"
      ]
     },
     "execution_count": 9,
     "metadata": {},
     "output_type": "execute_result"
    }
   ],
   "source": [
    "cout.activate()"
   ]
  },
  {
   "cell_type": "code",
   "execution_count": 10,
   "id": "447b95af",
   "metadata": {},
   "outputs": [
    {
     "data": {
      "text/plain": [
       "RTC_OK"
      ]
     },
     "execution_count": 10,
     "metadata": {},
     "output_type": "execute_result"
    }
   ],
   "source": [
    "cout.deactivate()"
   ]
  },
  {
   "cell_type": "code",
   "execution_count": 11,
   "id": "fb9af51a",
   "metadata": {},
   "outputs": [
    {
     "data": {
      "text/plain": [
       "RTC_OK"
      ]
     },
     "execution_count": 11,
     "metadata": {},
     "output_type": "execute_result"
    }
   ],
   "source": [
    "cout.activate()"
   ]
  },
  {
   "cell_type": "markdown",
   "id": "078835e4",
   "metadata": {},
   "source": [
    "deactivation of some rtcs may fail. \n",
    "those rtcs may wait for resorces(ex. waiting for user input) in onExecute loop.\n",
    "for example,"
   ]
  },
  {
   "cell_type": "code",
   "execution_count": 12,
   "id": "511e6f35",
   "metadata": {},
   "outputs": [
    {
     "data": {
      "text/plain": [
       "RTC_OK"
      ]
     },
     "execution_count": 12,
     "metadata": {},
     "output_type": "execute_result"
    }
   ],
   "source": [
    "cin.activate()"
   ]
  },
  {
   "cell_type": "code",
   "execution_count": 13,
   "id": "ce2e9a41",
   "metadata": {},
   "outputs": [
    {
     "data": {
      "text/plain": [
       "RTC_ERROR"
      ]
     },
     "execution_count": 13,
     "metadata": {},
     "output_type": "execute_result"
    }
   ],
   "source": [
    "cin.deactivate()"
   ]
  },
  {
   "cell_type": "markdown",
   "id": "f9e43784",
   "metadata": {},
   "source": [
    "but it usually recovers after the resorce is available. please input something at the cin console. then,"
   ]
  },
  {
   "cell_type": "code",
   "execution_count": 14,
   "id": "9267bf8f",
   "metadata": {},
   "outputs": [
    {
     "data": {
      "text/plain": [
       "RTC_OK"
      ]
     },
     "execution_count": 14,
     "metadata": {},
     "output_type": "execute_result"
    }
   ],
   "source": [
    "cin.activate()"
   ]
  },
  {
   "cell_type": "markdown",
   "id": "510924a1",
   "metadata": {},
   "source": [
    "## direct access to Inports and Outports\n",
    "\n",
    "if the interface_type of the ports is corba_cdr,\n",
    "you can put data to inports and get data from outpors by using rtc_handle.py."
   ]
  },
  {
   "cell_type": "markdown",
   "id": "dc2db3e8",
   "metadata": {},
   "source": [
    "### put data to inport"
   ]
  },
  {
   "cell_type": "code",
   "execution_count": 15,
   "id": "83513ebc",
   "metadata": {},
   "outputs": [
    {
     "data": {
      "text/plain": [
       "{'str_in': <rtc_handle.RtcInport at 0x7fdbcde6f6a0>}"
      ]
     },
     "execution_count": 15,
     "metadata": {},
     "output_type": "execute_result"
    }
   ],
   "source": [
    "cout.inports"
   ]
  },
  {
   "cell_type": "code",
   "execution_count": 16,
   "id": "0c79a9d2",
   "metadata": {},
   "outputs": [
    {
     "data": {
      "text/plain": [
       "RTC_OK"
      ]
     },
     "execution_count": 16,
     "metadata": {},
     "output_type": "execute_result"
    }
   ],
   "source": [
    "cout.inports['str_in'].open()"
   ]
  },
  {
   "cell_type": "code",
   "execution_count": 17,
   "id": "cc0213b1",
   "metadata": {},
   "outputs": [
    {
     "data": {
      "text/plain": [
       "PORT_OK"
      ]
     },
     "execution_count": 17,
     "metadata": {},
     "output_type": "execute_result"
    }
   ],
   "source": [
    "cout.inports['str_in'].write('abc')"
   ]
  },
  {
   "cell_type": "code",
   "execution_count": 18,
   "id": "ca53fe40",
   "metadata": {},
   "outputs": [
    {
     "data": {
      "text/plain": [
       "RTC_OK"
      ]
     },
     "execution_count": 18,
     "metadata": {},
     "output_type": "execute_result"
    }
   ],
   "source": [
    "cout.inports['str_in'].close()"
   ]
  },
  {
   "cell_type": "markdown",
   "id": "7028ba7c",
   "metadata": {},
   "source": [
    "### get data from outport\n",
    "\n",
    "by connecting to outport with setting 'datapot.dataflow_type' : 'pull' ,\n",
    "you can get 'dataport.corba_cdr.outport_ref'.\n",
    "\n",
    "\n",
    "you can directly get the last data (and if not consumed other rtcs) by the ref."
   ]
  },
  {
   "cell_type": "code",
   "execution_count": 19,
   "id": "9d4ef2bf",
   "metadata": {},
   "outputs": [
    {
     "data": {
      "text/plain": [
       "{'str_out': <rtc_handle.RtcOutport at 0x7fdbcde66220>}"
      ]
     },
     "execution_count": 19,
     "metadata": {},
     "output_type": "execute_result"
    }
   ],
   "source": [
    "cin.outports"
   ]
  },
  {
   "cell_type": "code",
   "execution_count": 20,
   "id": "3178f54e",
   "metadata": {},
   "outputs": [
    {
     "data": {
      "text/plain": [
       "RTC_OK"
      ]
     },
     "execution_count": 20,
     "metadata": {},
     "output_type": "execute_result"
    }
   ],
   "source": [
    "cin.outports['str_out'].open()"
   ]
  },
  {
   "cell_type": "code",
   "execution_count": 21,
   "id": "0d5665bd",
   "metadata": {
    "scrolled": true
   },
   "outputs": [
    {
     "data": {
      "text/plain": [
       "{'dataport.dataflow_type': 'pull',\n",
       " 'dataport.interface_type': 'corba_cdr',\n",
       " 'dataport.subscription_type': 'new',\n",
       " 'dataport.publisher.push_policy': 'new',\n",
       " 'dataport.inport.buffer.length': '1',\n",
       " 'dataport.inport.buffer.read.empty_policy': 'do_nothing',\n",
       " 'dataport.inport.buffer.write.full_policy': 'overwrite',\n",
       " 'dataport.outport.buffer.length': '1',\n",
       " 'dataport.outport.buffer.write.full_policy': 'overwrite',\n",
       " 'dataport.outport.buffer.read.empty_policy': 'do_nothing',\n",
       " 'dataport.data_type': 'TimedString',\n",
       " 'dataport.serializer.cdr.endian': 'little,big',\n",
       " 'dataport.corba_cdr.outport_ior': 'IOR:010000001b00000049444c3a4f70656e52544d2f4f7574506f72744364723a312e300000010000000000000064000000010102000e0000003139322e3136382e35302e33350063cd0e000000fe37b1886100008405000000000a00000200000000000000080000000100000000545441010000001c00000001000000010001000100000001000105090101000100000009010100',\n",
       " 'dataport.corba_cdr.outport_ref': <OpenRTM._objref_OutPortCdr at 0x7fdbcce03550>}"
      ]
     },
     "execution_count": 21,
     "metadata": {},
     "output_type": "execute_result"
    }
   ],
   "source": [
    "cin.outports['str_out'].con.prop_dict"
   ]
  },
  {
   "cell_type": "code",
   "execution_count": 22,
   "id": "99b51c72",
   "metadata": {},
   "outputs": [],
   "source": [
    "cin.outports['str_out'].read()"
   ]
  },
  {
   "cell_type": "code",
   "execution_count": 23,
   "id": "5712762a",
   "metadata": {},
   "outputs": [
    {
     "data": {
      "text/plain": [
       "RTC_OK"
      ]
     },
     "execution_count": 23,
     "metadata": {},
     "output_type": "execute_result"
    }
   ],
   "source": [
    "cin.outports['str_out'].close()"
   ]
  },
  {
   "cell_type": "markdown",
   "id": "fa870602",
   "metadata": {},
   "source": [
    "## IOConnector : connect and disconnect io-ports\n",
    "\n",
    "IOConnector contains information for connecting io-ports"
   ]
  },
  {
   "cell_type": "markdown",
   "id": "0846ee47",
   "metadata": {},
   "source": [
    "create a connector between cin.outports['str_out'] and cout.inports['str_in']"
   ]
  },
  {
   "cell_type": "code",
   "execution_count": 24,
   "id": "3af10163",
   "metadata": {},
   "outputs": [],
   "source": [
    "con = IOConnector([cin.outports['str_out'], cout.inports['str_in']])"
   ]
  },
  {
   "cell_type": "markdown",
   "id": "9311dfb9",
   "metadata": {},
   "source": [
    "default properties of the connector is as follows"
   ]
  },
  {
   "cell_type": "code",
   "execution_count": 25,
   "id": "7c9026a5",
   "metadata": {},
   "outputs": [
    {
     "data": {
      "text/plain": [
       "{'dataport.dataflow_type': 'push',\n",
       " 'dataport.interface_type': 'corba_cdr',\n",
       " 'dataport.subscription_type': 'new',\n",
       " 'dataport.publisher.push_policy': 'new',\n",
       " 'dataport.inport.buffer.length': '1',\n",
       " 'dataport.inport.buffer.read.empty_policy': 'do_nothing',\n",
       " 'dataport.inport.buffer.write.full_policy': 'overwrite',\n",
       " 'dataport.outport.buffer.length': '1',\n",
       " 'dataport.outport.buffer.write.full_policy': 'overwrite',\n",
       " 'dataport.outport.buffer.read.empty_policy': 'do_nothing'}"
      ]
     },
     "execution_count": 25,
     "metadata": {},
     "output_type": "execute_result"
    }
   ],
   "source": [
    "con.def_prop"
   ]
  },
  {
   "cell_type": "markdown",
   "id": "d66e02ff",
   "metadata": {},
   "source": [
    "connect ports"
   ]
  },
  {
   "cell_type": "code",
   "execution_count": 26,
   "id": "e928b410",
   "metadata": {},
   "outputs": [
    {
     "data": {
      "text/plain": [
       "RTC_OK"
      ]
     },
     "execution_count": 26,
     "metadata": {},
     "output_type": "execute_result"
    }
   ],
   "source": [
    "con.connect()"
   ]
  },
  {
   "cell_type": "code",
   "execution_count": 27,
   "id": "9c39622a",
   "metadata": {},
   "outputs": [
    {
     "data": {
      "text/plain": [
       "RTC.ConnectorProfile(name='cin0.str_out_cout0.str_in', connector_id='83a8f542-408b-11ec-b42d-594718fca3b7', ports=[<RTC._objref_PortService object at 0x7fdbcde71d90>, <RTC._objref_PortService object at 0x7fdbcde71ca0>], properties=[SDOPackage.NameValue(name='dataport.dataflow_type', value=CORBA.Any(CORBA.TC_string, 'push')), SDOPackage.NameValue(name='dataport.interface_type', value=CORBA.Any(CORBA.TC_string, 'corba_cdr')), SDOPackage.NameValue(name='dataport.subscription_type', value=CORBA.Any(CORBA.TC_string, 'new')), SDOPackage.NameValue(name='dataport.publisher.push_policy', value=CORBA.Any(CORBA.TC_string, 'new')), SDOPackage.NameValue(name='dataport.inport.buffer.length', value=CORBA.Any(CORBA.TC_string, '1')), SDOPackage.NameValue(name='dataport.inport.buffer.read.empty_policy', value=CORBA.Any(CORBA.TC_string, 'do_nothing')), SDOPackage.NameValue(name='dataport.inport.buffer.write.full_policy', value=CORBA.Any(CORBA.TC_string, 'overwrite')), SDOPackage.NameValue(name='dataport.outport.buffer.length', value=CORBA.Any(CORBA.TC_string, '1')), SDOPackage.NameValue(name='dataport.outport.buffer.write.full_policy', value=CORBA.Any(CORBA.TC_string, 'overwrite')), SDOPackage.NameValue(name='dataport.outport.buffer.read.empty_policy', value=CORBA.Any(CORBA.TC_string, 'do_nothing')), SDOPackage.NameValue(name='dataport.data_type', value=CORBA.Any(CORBA.TC_string, 'TimedString')), SDOPackage.NameValue(name='dataport.serializer.cdr.endian', value=CORBA.Any(CORBA.TC_string, 'little,big')), SDOPackage.NameValue(name='dataport.corba_cdr.inport_ior', value=CORBA.Any(CORBA.TC_string, 'IOR:010000001a00000049444c3a4f70656e52544d2f496e506f72744364723a312e30000000010000000000000064000000010102000e0000003139322e3136382e35302e33350041cb0e000000fe37b1886100008404000000001900000200000000000000080000000100000000545441010000001c00000001000000010001000100000001000105090101000100000009010100')), SDOPackage.NameValue(name='dataport.corba_cdr.inport_ref', value=CORBA.Any(CORBA.TypeCode(\"IDL:OpenRTM/InPortCdr:1.0\"), <OpenRTM._objref_InPortCdr object at 0x7fdbcce08910>))])"
      ]
     },
     "execution_count": 27,
     "metadata": {},
     "output_type": "execute_result"
    }
   ],
   "source": [
    "con.profile"
   ]
  },
  {
   "cell_type": "code",
   "execution_count": 28,
   "id": "9b6fdf03",
   "metadata": {},
   "outputs": [
    {
     "data": {
      "text/plain": [
       "{'dataport.dataflow_type': 'push',\n",
       " 'dataport.interface_type': 'corba_cdr',\n",
       " 'dataport.subscription_type': 'new',\n",
       " 'dataport.publisher.push_policy': 'new',\n",
       " 'dataport.inport.buffer.length': '1',\n",
       " 'dataport.inport.buffer.read.empty_policy': 'do_nothing',\n",
       " 'dataport.inport.buffer.write.full_policy': 'overwrite',\n",
       " 'dataport.outport.buffer.length': '1',\n",
       " 'dataport.outport.buffer.write.full_policy': 'overwrite',\n",
       " 'dataport.outport.buffer.read.empty_policy': 'do_nothing',\n",
       " 'dataport.data_type': 'TimedString',\n",
       " 'dataport.serializer.cdr.endian': 'little,big',\n",
       " 'dataport.corba_cdr.inport_ior': 'IOR:010000001a00000049444c3a4f70656e52544d2f496e506f72744364723a312e30000000010000000000000064000000010102000e0000003139322e3136382e35302e33350041cb0e000000fe37b1886100008404000000001900000200000000000000080000000100000000545441010000001c00000001000000010001000100000001000105090101000100000009010100',\n",
       " 'dataport.corba_cdr.inport_ref': <OpenRTM._objref_InPortCdr at 0x7fdbcce08910>}"
      ]
     },
     "execution_count": 28,
     "metadata": {},
     "output_type": "execute_result"
    }
   ],
   "source": [
    "con.prop_dict"
   ]
  },
  {
   "cell_type": "markdown",
   "id": "8596fffa",
   "metadata": {},
   "source": [
    "disconnect ports"
   ]
  },
  {
   "cell_type": "code",
   "execution_count": 29,
   "id": "eb8db1e2",
   "metadata": {},
   "outputs": [
    {
     "data": {
      "text/plain": [
       "RTC_OK"
      ]
     },
     "execution_count": 29,
     "metadata": {},
     "output_type": "execute_result"
    }
   ],
   "source": [
    "con.disconnect()"
   ]
  },
  {
   "cell_type": "markdown",
   "id": "01d839cf",
   "metadata": {},
   "source": [
    "### change properties\n",
    "\n",
    "you can change properties by giving prop_dict"
   ]
  },
  {
   "cell_type": "code",
   "execution_count": 30,
   "id": "bf21058e",
   "metadata": {},
   "outputs": [],
   "source": [
    "con = IOConnector([cin.outports['str_out'], cout.inports['str_in']], \n",
    "                  prop_dict={'dataport.inport.buffer.length': '8'})"
   ]
  },
  {
   "cell_type": "code",
   "execution_count": 31,
   "id": "c2010d12",
   "metadata": {},
   "outputs": [
    {
     "data": {
      "text/plain": [
       "{'dataport.dataflow_type': 'push',\n",
       " 'dataport.interface_type': 'corba_cdr',\n",
       " 'dataport.subscription_type': 'new',\n",
       " 'dataport.publisher.push_policy': 'new',\n",
       " 'dataport.inport.buffer.length': '8',\n",
       " 'dataport.inport.buffer.read.empty_policy': 'do_nothing',\n",
       " 'dataport.inport.buffer.write.full_policy': 'overwrite',\n",
       " 'dataport.outport.buffer.length': '1',\n",
       " 'dataport.outport.buffer.write.full_policy': 'overwrite',\n",
       " 'dataport.outport.buffer.read.empty_policy': 'do_nothing',\n",
       " 'dataport.data_type': 'TimedString'}"
      ]
     },
     "execution_count": 31,
     "metadata": {},
     "output_type": "execute_result"
    }
   ],
   "source": [
    "con.prop_dict_req"
   ]
  },
  {
   "cell_type": "code",
   "execution_count": 32,
   "id": "2f5beb04",
   "metadata": {},
   "outputs": [
    {
     "data": {
      "text/plain": [
       "RTC_OK"
      ]
     },
     "execution_count": 32,
     "metadata": {},
     "output_type": "execute_result"
    }
   ],
   "source": [
    "con.connect()"
   ]
  },
  {
   "cell_type": "code",
   "execution_count": 33,
   "id": "76f04bf1",
   "metadata": {},
   "outputs": [
    {
     "data": {
      "text/plain": [
       "{'dataport.dataflow_type': 'push',\n",
       " 'dataport.interface_type': 'corba_cdr',\n",
       " 'dataport.subscription_type': 'new',\n",
       " 'dataport.publisher.push_policy': 'new',\n",
       " 'dataport.inport.buffer.length': '8',\n",
       " 'dataport.inport.buffer.read.empty_policy': 'do_nothing',\n",
       " 'dataport.inport.buffer.write.full_policy': 'overwrite',\n",
       " 'dataport.outport.buffer.length': '1',\n",
       " 'dataport.outport.buffer.write.full_policy': 'overwrite',\n",
       " 'dataport.outport.buffer.read.empty_policy': 'do_nothing',\n",
       " 'dataport.data_type': 'TimedString',\n",
       " 'dataport.serializer.cdr.endian': 'little,big',\n",
       " 'dataport.corba_cdr.inport_ior': 'IOR:010000001a00000049444c3a4f70656e52544d2f496e506f72744364723a312e30000000010000000000000064000000010102000e0000003139322e3136382e35302e33350041cb0e000000fe37b1886100008404000000001a00000200000000000000080000000100000000545441010000001c00000001000000010001000100000001000105090101000100000009010100',\n",
       " 'dataport.corba_cdr.inport_ref': <OpenRTM._objref_InPortCdr at 0x7fdbcce08f70>}"
      ]
     },
     "execution_count": 33,
     "metadata": {},
     "output_type": "execute_result"
    }
   ],
   "source": [
    "con.prop_dict"
   ]
  },
  {
   "cell_type": "code",
   "execution_count": 34,
   "id": "365f8875",
   "metadata": {},
   "outputs": [
    {
     "data": {
      "text/plain": [
       "RTC_OK"
      ]
     },
     "execution_count": 34,
     "metadata": {},
     "output_type": "execute_result"
    }
   ],
   "source": [
    "con.disconnect()"
   ]
  },
  {
   "cell_type": "markdown",
   "id": "e093a9bd",
   "metadata": {},
   "source": [
    "### conflict of connections\n",
    "\n",
    "only one connection is permitted between the same ports.\n",
    "\n",
    "so, if another connection exists, you can not control the connection by your connector.\n",
    "\n",
    "for example, "
   ]
  },
  {
   "cell_type": "code",
   "execution_count": 35,
   "id": "eceb15cb",
   "metadata": {},
   "outputs": [],
   "source": [
    "b = IOConnector([cin.outports['str_out'], cout.inports['str_in']])"
   ]
  },
  {
   "cell_type": "code",
   "execution_count": 36,
   "id": "4e0c4672",
   "metadata": {},
   "outputs": [
    {
     "data": {
      "text/plain": [
       "RTC_OK"
      ]
     },
     "execution_count": 36,
     "metadata": {},
     "output_type": "execute_result"
    }
   ],
   "source": [
    "b.connect()"
   ]
  },
  {
   "cell_type": "code",
   "execution_count": 37,
   "id": "71736ec7",
   "metadata": {},
   "outputs": [
    {
     "name": "stdout",
     "output_type": "stream",
     "text": [
      "there exists another connection. please try force=True.\n"
     ]
    },
    {
     "data": {
      "text/plain": [
       "'NO'"
      ]
     },
     "execution_count": 37,
     "metadata": {},
     "output_type": "execute_result"
    }
   ],
   "source": [
    "con.connect()"
   ]
  },
  {
   "cell_type": "code",
   "execution_count": 38,
   "id": "35ee7506",
   "metadata": {},
   "outputs": [
    {
     "name": "stdout",
     "output_type": "stream",
     "text": [
      "there exists another connection. please try force=True.\n"
     ]
    },
    {
     "data": {
      "text/plain": [
       "'NO'"
      ]
     },
     "execution_count": 38,
     "metadata": {},
     "output_type": "execute_result"
    }
   ],
   "source": [
    "con.disconnect()"
   ]
  },
  {
   "cell_type": "markdown",
   "id": "02a0a50e",
   "metadata": {},
   "source": [
    "you can handle this situation by forcing connect/disconnect operation"
   ]
  },
  {
   "cell_type": "code",
   "execution_count": 39,
   "id": "e7abacc6",
   "metadata": {},
   "outputs": [
    {
     "data": {
      "text/plain": [
       "RTC_OK"
      ]
     },
     "execution_count": 39,
     "metadata": {},
     "output_type": "execute_result"
    }
   ],
   "source": [
    "con.connect(force=True)"
   ]
  },
  {
   "cell_type": "code",
   "execution_count": null,
   "id": "ac1d3a7a",
   "metadata": {},
   "outputs": [],
   "source": []
  }
 ],
 "metadata": {
  "kernelspec": {
   "display_name": "Python 3",
   "language": "python",
   "name": "python3"
  },
  "language_info": {
   "codemirror_mode": {
    "name": "ipython",
    "version": 3
   },
   "file_extension": ".py",
   "mimetype": "text/x-python",
   "name": "python",
   "nbconvert_exporter": "python",
   "pygments_lexer": "ipython3",
   "version": "3.8.10"
  }
 },
 "nbformat": 4,
 "nbformat_minor": 5
}
